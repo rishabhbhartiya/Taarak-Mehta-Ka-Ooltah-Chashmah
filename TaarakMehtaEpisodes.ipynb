{
  "nbformat": 4,
  "nbformat_minor": 0,
  "metadata": {
    "colab": {
      "provenance": []
    },
    "kernelspec": {
      "name": "python3",
      "display_name": "Python 3"
    },
    "language_info": {
      "name": "python"
    }
  },
  "cells": [
    {
      "cell_type": "code",
      "execution_count": null,
      "metadata": {
        "id": "xKBL_S9LrpnC"
      },
      "outputs": [],
      "source": [
        "import numpy as np\n",
        "import pandas as pd"
      ]
    },
    {
      "cell_type": "code",
      "source": [
        "# Load the dataset\n",
        "data = pd.read_csv('TMKOC41.csv')"
      ],
      "metadata": {
        "id": "877ODDPCr5bI"
      },
      "execution_count": null,
      "outputs": []
    },
    {
      "cell_type": "code",
      "source": [
        "# Drop the unnecessary column\n",
        "data = data.drop(columns='Unnamed: 0')"
      ],
      "metadata": {
        "id": "MA-597dCr5hH"
      },
      "execution_count": null,
      "outputs": []
    },
    {
      "cell_type": "code",
      "source": [
        "# Define functions to clean and transform the data\n",
        "def extract_episode_number(s):\n",
        "    if \"Taarak Mehta Ka Ooltah Chashmah\" in s:\n",
        "        parts = s.replace(\"Taarak Mehta Ka Ooltah Chashmah\", \"\").split(\".\")\n",
        "        return int(parts[0])\n",
        "    return s\n",
        "\n",
        "def extract_episode_title(t):\n",
        "    if \"Taarak Mehta Ka Ooltah Chashmah\" in t:\n",
        "        parts = t.replace(\"Taarak Mehta Ka Ooltah Chashmah\", \"\").split(\".\")\n",
        "        return parts[1].replace(\"–\", \"\").strip()\n",
        "    return t\n",
        "\n",
        "def extract_runtime(rn):\n",
        "    return rn.replace(\"FULL_HD2\", \"\")\n",
        "\n",
        "def extract_release_date(Ud):\n",
        "    return Ud.split(\"mins\")[1].strip()\n",
        "\n",
        "def extract_episode_runtime(Ur):\n",
        "    return Ur.split(\"mins\")[0].strip() + \" mins\""
      ],
      "metadata": {
        "id": "b7Dv9Wcvr5jZ"
      },
      "execution_count": null,
      "outputs": []
    },
    {
      "cell_type": "code",
      "source": [
        "# Apply transformations\n",
        "data['episode_number'] = data['title'].apply(extract_episode_number)\n",
        "data['Episode_title'] = data['title'].apply(extract_episode_title)\n",
        "data['Runtime'] = data['metadata'].apply(extract_runtime)\n",
        "data['Released_on'] = data['Runtime'].apply(extract_release_date)\n",
        "data['Episode_runtime'] = data['Runtime'].apply(extract_episode_runtime)"
      ],
      "metadata": {
        "id": "nel4fGa1r5rQ"
      },
      "execution_count": null,
      "outputs": []
    },
    {
      "cell_type": "code",
      "source": [
        "# Drop unnecessary columns\n",
        "data = data.drop(columns=['metadata', 'title', 'Runtime'])"
      ],
      "metadata": {
        "id": "doQZSzaur5v8"
      },
      "execution_count": null,
      "outputs": []
    },
    {
      "cell_type": "code",
      "source": [
        "# Reorder columns\n",
        "new_order = ['episode_number', 'Episode_title', 'description', 'Episode_runtime', 'Released_on']\n",
        "data = data[new_order]"
      ],
      "metadata": {
        "id": "hY2jBAQ8r5zC"
      },
      "execution_count": null,
      "outputs": []
    },
    {
      "cell_type": "code",
      "source": [
        "df = pd.DataFrame(data)\n",
        "data = df.sort_values(by='episode_number').reset_index(drop=True)"
      ],
      "metadata": {
        "id": "uGkRzovOpmKn"
      },
      "execution_count": null,
      "outputs": []
    },
    {
      "cell_type": "code",
      "source": [
        "data.to_csv('TMKOC_EPISODES_41.csv', index=False)"
      ],
      "metadata": {
        "id": "UyHo_sbpqI7S"
      },
      "execution_count": null,
      "outputs": []
    }
  ]
}